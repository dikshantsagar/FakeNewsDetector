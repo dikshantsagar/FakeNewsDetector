{
 "cells": [
  {
   "cell_type": "code",
   "execution_count": 2,
   "metadata": {},
   "outputs": [],
   "source": [
    "import pandas as pd\n",
    "from nltk.corpus import stopwords\n",
    "from sklearn.feature_extraction.text import CountVectorizer\n",
    "from sklearn.naive_bayes import MultinomialNB\n",
    "from sklearn.pipeline import Pipeline\n",
    "import numpy as np\n",
    "from sklearn.svm import LinearSVC\n",
    "from sklearn.feature_extraction.text import TfidfVectorizer\n",
    "from sklearn.pipeline import Pipeline\n",
    "from sklearn.model_selection import GridSearchCV"
   ]
  },
  {
   "cell_type": "code",
   "execution_count": 3,
   "metadata": {},
   "outputs": [],
   "source": [
    "train=pd.read_csv('dataset/train2.tsv', sep='\\t',header=None)"
   ]
  },
  {
   "cell_type": "code",
   "execution_count": 4,
   "metadata": {},
   "outputs": [],
   "source": [
    "traindata=[]\n",
    "for i in range(len(train)):\n",
    "    data=train.iloc[:,3][i]+\" \"+str(train.iloc[:,4][i])+\" \"+str(train.iloc[:,5][i])+\" \"+str(train.iloc[:,6][i])+\" \"+str(train.iloc[:,14][i])\n",
    "    label=train.iloc[:,2][i]\n",
    "    traindata.append([data,label])"
   ]
  },
  {
   "cell_type": "code",
   "execution_count": 5,
   "metadata": {},
   "outputs": [],
   "source": [
    "train=pd.DataFrame(traindata)"
   ]
  },
  {
   "cell_type": "code",
   "execution_count": 6,
   "metadata": {},
   "outputs": [
    {
     "data": {
      "text/html": [
       "<div>\n",
       "<style scoped>\n",
       "    .dataframe tbody tr th:only-of-type {\n",
       "        vertical-align: middle;\n",
       "    }\n",
       "\n",
       "    .dataframe tbody tr th {\n",
       "        vertical-align: top;\n",
       "    }\n",
       "\n",
       "    .dataframe thead th {\n",
       "        text-align: right;\n",
       "    }\n",
       "</style>\n",
       "<table border=\"1\" class=\"dataframe\">\n",
       "  <thead>\n",
       "    <tr style=\"text-align: right;\">\n",
       "      <th></th>\n",
       "      <th>0</th>\n",
       "      <th>1</th>\n",
       "    </tr>\n",
       "  </thead>\n",
       "  <tbody>\n",
       "    <tr>\n",
       "      <th>0</th>\n",
       "      <td>Says the Annies List political group supports ...</td>\n",
       "      <td>false</td>\n",
       "    </tr>\n",
       "    <tr>\n",
       "      <th>1</th>\n",
       "      <td>When did the decline of coal start? It started...</td>\n",
       "      <td>half-true</td>\n",
       "    </tr>\n",
       "    <tr>\n",
       "      <th>2</th>\n",
       "      <td>Hillary Clinton agrees with John McCain \"by vo...</td>\n",
       "      <td>mostly-true</td>\n",
       "    </tr>\n",
       "    <tr>\n",
       "      <th>3</th>\n",
       "      <td>Health care reform legislation is likely to ma...</td>\n",
       "      <td>false</td>\n",
       "    </tr>\n",
       "    <tr>\n",
       "      <th>4</th>\n",
       "      <td>The economic turnaround started at the end of ...</td>\n",
       "      <td>half-true</td>\n",
       "    </tr>\n",
       "  </tbody>\n",
       "</table>\n",
       "</div>"
      ],
      "text/plain": [
       "                                                   0            1\n",
       "0  Says the Annies List political group supports ...        false\n",
       "1  When did the decline of coal start? It started...    half-true\n",
       "2  Hillary Clinton agrees with John McCain \"by vo...  mostly-true\n",
       "3  Health care reform legislation is likely to ma...        false\n",
       "4  The economic turnaround started at the end of ...    half-true"
      ]
     },
     "execution_count": 6,
     "metadata": {},
     "output_type": "execute_result"
    }
   ],
   "source": [
    "train.head()"
   ]
  },
  {
   "cell_type": "code",
   "execution_count": 7,
   "metadata": {},
   "outputs": [],
   "source": [
    "labdict={'barely-true':0,\n",
    "         'false':1,\n",
    "         'half-true':2,\n",
    "         'mostly-true':3,\n",
    "         'pants-fire':4,\n",
    "         'true':5}"
   ]
  },
  {
   "cell_type": "code",
   "execution_count": 8,
   "metadata": {},
   "outputs": [],
   "source": [
    "for i in range(len(train)):\n",
    "    train.iloc[:,1][i]=labdict[train.iloc[:,1][i]]"
   ]
  },
  {
   "cell_type": "code",
   "execution_count": 9,
   "metadata": {},
   "outputs": [],
   "source": [
    "train=train.replace('\\d+', 'NUM', regex=True)"
   ]
  },
  {
   "cell_type": "code",
   "execution_count": 87,
   "metadata": {},
   "outputs": [],
   "source": [
    "cv=CountVectorizer(ngram_range=(1,3), max_features=10000)"
   ]
  },
  {
   "cell_type": "code",
   "execution_count": 88,
   "metadata": {},
   "outputs": [],
   "source": [
    "cv2=TfidfVectorizer(ngram_range=(1,3), max_features=10000)"
   ]
  },
  {
   "cell_type": "code",
   "execution_count": 89,
   "metadata": {},
   "outputs": [],
   "source": [
    "x=cv.fit_transform(train.iloc[:,0])\n",
    "x2=cv2.fit_transform(train.iloc[:,0])"
   ]
  },
  {
   "cell_type": "code",
   "execution_count": 90,
   "metadata": {},
   "outputs": [
    {
     "data": {
      "text/plain": [
       "0.60078125"
      ]
     },
     "execution_count": 90,
     "metadata": {},
     "output_type": "execute_result"
    }
   ],
   "source": [
    "clf1=MultinomialNB(alpha=0.3)\n",
    "clf1.fit(x,list(train.iloc[:,1]))\n",
    "clf1.score(x,list(train.iloc[:,1]))"
   ]
  },
  {
   "cell_type": "code",
   "execution_count": 91,
   "metadata": {},
   "outputs": [
    {
     "data": {
      "text/plain": [
       "0.59716796875"
      ]
     },
     "execution_count": 91,
     "metadata": {},
     "output_type": "execute_result"
    }
   ],
   "source": [
    "clf2=MultinomialNB(alpha=0.3)\n",
    "clf2.fit(x2,list(train.iloc[:,1]))\n",
    "clf2.score(x2,list(train.iloc[:,1]))"
   ]
  },
  {
   "cell_type": "code",
   "execution_count": 92,
   "metadata": {},
   "outputs": [
    {
     "data": {
      "text/plain": [
       "0.96083984375"
      ]
     },
     "execution_count": 92,
     "metadata": {},
     "output_type": "execute_result"
    }
   ],
   "source": [
    "clf3=LinearSVC(C=0.1)\n",
    "clf3.fit(x,list(train.iloc[:,1]))\n",
    "clf3.score(x,list(train.iloc[:,1]))"
   ]
  },
  {
   "cell_type": "code",
   "execution_count": 93,
   "metadata": {},
   "outputs": [
    {
     "data": {
      "text/plain": [
       "0.6384765625"
      ]
     },
     "execution_count": 93,
     "metadata": {},
     "output_type": "execute_result"
    }
   ],
   "source": [
    "clf4=LinearSVC(C=0.1)\n",
    "clf4.fit(x2,list(train.iloc[:,1]))\n",
    "clf4.score(x2,list(train.iloc[:,1]))"
   ]
  },
  {
   "cell_type": "code",
   "execution_count": 94,
   "metadata": {},
   "outputs": [
    {
     "data": {
      "text/plain": [
       "0.9615234375"
      ]
     },
     "execution_count": 94,
     "metadata": {},
     "output_type": "execute_result"
    }
   ],
   "source": [
    "from sklearn.linear_model import LogisticRegression\n",
    "cl1=LogisticRegression()\n",
    "cl1.fit(x,list(train.iloc[:,1]))\n",
    "cl1.score(x,list(train.iloc[:,1]))"
   ]
  },
  {
   "cell_type": "code",
   "execution_count": 95,
   "metadata": {},
   "outputs": [
    {
     "data": {
      "text/plain": [
       "0.611328125"
      ]
     },
     "execution_count": 95,
     "metadata": {},
     "output_type": "execute_result"
    }
   ],
   "source": [
    "cl2=LogisticRegression()\n",
    "cl2.fit(x2,list(train.iloc[:,1]))\n",
    "cl2.score(x2,list(train.iloc[:,1]))"
   ]
  },
  {
   "cell_type": "code",
   "execution_count": 96,
   "metadata": {},
   "outputs": [],
   "source": [
    "import keras\n",
    "from keras.models import Sequential\n",
    "from keras.layers import Dense, Activation, Dropout\n",
    "from keras.preprocessing import text, sequence\n",
    "from keras import utils\n",
    "\n",
    "model = Sequential()\n",
    "model.add(Dense(512, input_shape=(10000,)))\n",
    "model.add(Activation('relu'))\n",
    "model.add(Dropout(0.5))\n",
    "model.add(Dense(6))\n",
    "model.add(Activation('softmax'))\n",
    "\n",
    "model.compile(loss='categorical_crossentropy',\n",
    "              optimizer='adam',\n",
    "              metrics=['accuracy'])\n"
   ]
  },
  {
   "cell_type": "code",
   "execution_count": 97,
   "metadata": {},
   "outputs": [
    {
     "name": "stdout",
     "output_type": "stream",
     "text": [
      "Train on 9216 samples, validate on 1024 samples\n",
      "Epoch 1/20\n",
      "9216/9216 [==============================] - 28s 3ms/step - loss: 1.7196 - acc: 0.2406 - val_loss: 1.6572 - val_acc: 0.2852\n",
      "Epoch 2/20\n",
      "9216/9216 [==============================] - 26s 3ms/step - loss: 1.3305 - acc: 0.4979 - val_loss: 1.7710 - val_acc: 0.2754\n",
      "Epoch 3/20\n",
      "9216/9216 [==============================] - 27s 3ms/step - loss: 0.8392 - acc: 0.7190 - val_loss: 1.9981 - val_acc: 0.2754\n",
      "Epoch 4/20\n",
      "9216/9216 [==============================] - 28s 3ms/step - loss: 0.4269 - acc: 0.8855 - val_loss: 2.2678 - val_acc: 0.2471\n",
      "Epoch 5/20\n",
      "9216/9216 [==============================] - 27s 3ms/step - loss: 0.2019 - acc: 0.9575 - val_loss: 2.5199 - val_acc: 0.2578\n",
      "Epoch 6/20\n",
      "9216/9216 [==============================] - 26s 3ms/step - loss: 0.1061 - acc: 0.9810 - val_loss: 2.7337 - val_acc: 0.2598\n",
      "Epoch 7/20\n",
      "9216/9216 [==============================] - 27s 3ms/step - loss: 0.0671 - acc: 0.9898 - val_loss: 2.8947 - val_acc: 0.2598\n",
      "Epoch 8/20\n",
      "9216/9216 [==============================] - 27s 3ms/step - loss: 0.0427 - acc: 0.9942 - val_loss: 3.0359 - val_acc: 0.2695\n",
      "Epoch 9/20\n",
      "9216/9216 [==============================] - 27s 3ms/step - loss: 0.0332 - acc: 0.9953 - val_loss: 3.1086 - val_acc: 0.2666\n",
      "Epoch 10/20\n",
      "9216/9216 [==============================] - 27s 3ms/step - loss: 0.0250 - acc: 0.9960 - val_loss: 3.2297 - val_acc: 0.2666\n",
      "Epoch 11/20\n",
      "9216/9216 [==============================] - 27s 3ms/step - loss: 0.0202 - acc: 0.9973 - val_loss: 3.3858 - val_acc: 0.2578\n",
      "Epoch 12/20\n",
      "9216/9216 [==============================] - 27s 3ms/step - loss: 0.0185 - acc: 0.9972 - val_loss: 3.4497 - val_acc: 0.2617\n",
      "Epoch 13/20\n",
      "9216/9216 [==============================] - 27s 3ms/step - loss: 0.0181 - acc: 0.9975 - val_loss: 3.5333 - val_acc: 0.2627\n",
      "Epoch 14/20\n",
      "9216/9216 [==============================] - 27s 3ms/step - loss: 0.0163 - acc: 0.9972 - val_loss: 3.6562 - val_acc: 0.2627\n",
      "Epoch 15/20\n",
      "9216/9216 [==============================] - 27s 3ms/step - loss: 0.0128 - acc: 0.9978 - val_loss: 3.7483 - val_acc: 0.2637\n",
      "Epoch 16/20\n",
      "9216/9216 [==============================] - 28s 3ms/step - loss: 0.0146 - acc: 0.9973 - val_loss: 3.8904 - val_acc: 0.2578\n",
      "Epoch 17/20\n",
      "9216/9216 [==============================] - 29s 3ms/step - loss: 0.0154 - acc: 0.9971 - val_loss: 3.9417 - val_acc: 0.2529\n",
      "Epoch 18/20\n",
      "9216/9216 [==============================] - 32s 3ms/step - loss: 0.0129 - acc: 0.9971 - val_loss: 4.1272 - val_acc: 0.2578\n",
      "Epoch 19/20\n",
      "9216/9216 [==============================] - 37s 4ms/step - loss: 0.0125 - acc: 0.9977 - val_loss: 4.1477 - val_acc: 0.2646\n",
      "Epoch 20/20\n",
      "9216/9216 [==============================] - 38s 4ms/step - loss: 0.0117 - acc: 0.9974 - val_loss: 4.2498 - val_acc: 0.2627\n",
      "10240/10240 [==============================] - 9s 840us/step\n"
     ]
    },
    {
     "data": {
      "text/plain": [
       "0.9259765630631591"
      ]
     },
     "execution_count": 97,
     "metadata": {},
     "output_type": "execute_result"
    }
   ],
   "source": [
    "nn1 = model.fit(x, utils.to_categorical(train.iloc[:,1], 6),\n",
    "                    batch_size=30,\n",
    "                    epochs=20,\n",
    "                    verbose=1,\n",
    "                    validation_split=0.1)\n",
    "score = model.evaluate(x,utils.to_categorical(train.iloc[:,1], 6),\n",
    "                       batch_size=30, verbose=1)\n",
    "score[1]"
   ]
  },
  {
   "cell_type": "code",
   "execution_count": 98,
   "metadata": {},
   "outputs": [
    {
     "name": "stdout",
     "output_type": "stream",
     "text": [
      "Train on 9216 samples, validate on 1024 samples\n",
      "Epoch 1/20\n",
      "9216/9216 [==============================] - 40s 4ms/step - loss: 0.3517 - acc: 0.9635 - val_loss: 2.2024 - val_acc: 0.2656\n",
      "Epoch 2/20\n",
      "9216/9216 [==============================] - 35s 4ms/step - loss: 0.1049 - acc: 0.9959 - val_loss: 2.4965 - val_acc: 0.2598\n",
      "Epoch 3/20\n",
      "9216/9216 [==============================] - 33s 4ms/step - loss: 0.0493 - acc: 0.9990 - val_loss: 2.6972 - val_acc: 0.2549\n",
      "Epoch 4/20\n",
      "9216/9216 [==============================] - 30s 3ms/step - loss: 0.0319 - acc: 0.9993 - val_loss: 2.8286 - val_acc: 0.2588\n",
      "Epoch 5/20\n",
      "9216/9216 [==============================] - 30s 3ms/step - loss: 0.0235 - acc: 0.9993 - val_loss: 2.9577 - val_acc: 0.2617\n",
      "Epoch 6/20\n",
      "9216/9216 [==============================] - 34s 4ms/step - loss: 0.0162 - acc: 0.9998 - val_loss: 3.0790 - val_acc: 0.2607\n",
      "Epoch 7/20\n",
      "9216/9216 [==============================] - 31s 3ms/step - loss: 0.0122 - acc: 0.9997 - val_loss: 3.1741 - val_acc: 0.2607\n",
      "Epoch 8/20\n",
      "9216/9216 [==============================] - 28s 3ms/step - loss: 0.0103 - acc: 0.9995 - val_loss: 3.2544 - val_acc: 0.2656\n",
      "Epoch 9/20\n",
      "9216/9216 [==============================] - 31s 3ms/step - loss: 0.0089 - acc: 0.9996 - val_loss: 3.3383 - val_acc: 0.2705\n",
      "Epoch 10/20\n",
      "9216/9216 [==============================] - 30s 3ms/step - loss: 0.0075 - acc: 0.9996 - val_loss: 3.4311 - val_acc: 0.2617\n",
      "Epoch 11/20\n",
      "9216/9216 [==============================] - 28s 3ms/step - loss: 0.0054 - acc: 0.9999 - val_loss: 3.5010 - val_acc: 0.2598\n",
      "Epoch 12/20\n",
      "9216/9216 [==============================] - 27s 3ms/step - loss: 0.0050 - acc: 0.9997 - val_loss: 3.5884 - val_acc: 0.2627\n",
      "Epoch 13/20\n",
      "9216/9216 [==============================] - 28s 3ms/step - loss: 0.0048 - acc: 0.9996 - val_loss: 3.6346 - val_acc: 0.2578\n",
      "Epoch 14/20\n",
      "9216/9216 [==============================] - 33s 4ms/step - loss: 0.0045 - acc: 0.9996 - val_loss: 3.6978 - val_acc: 0.2637\n",
      "Epoch 15/20\n",
      "9216/9216 [==============================] - 29s 3ms/step - loss: 0.0037 - acc: 0.9997 - val_loss: 3.7606 - val_acc: 0.2656\n",
      "Epoch 16/20\n",
      "9216/9216 [==============================] - 28s 3ms/step - loss: 0.0033 - acc: 0.9997 - val_loss: 3.8401 - val_acc: 0.2529\n",
      "Epoch 17/20\n",
      "9216/9216 [==============================] - 30s 3ms/step - loss: 0.0023 - acc: 0.9997 - val_loss: 3.9281 - val_acc: 0.2578\n",
      "Epoch 18/20\n",
      "9216/9216 [==============================] - 29s 3ms/step - loss: 0.0023 - acc: 0.9998 - val_loss: 3.9740 - val_acc: 0.2646\n",
      "Epoch 19/20\n",
      "9216/9216 [==============================] - 28s 3ms/step - loss: 0.0017 - acc: 0.9999 - val_loss: 4.0543 - val_acc: 0.2656\n",
      "Epoch 20/20\n",
      "9216/9216 [==============================] - 29s 3ms/step - loss: 0.0020 - acc: 0.9998 - val_loss: 4.0996 - val_acc: 0.2607\n",
      "10240/10240 [==============================] - 4s 431us/step\n"
     ]
    },
    {
     "data": {
      "text/plain": [
       "0.925878906797152"
      ]
     },
     "execution_count": 98,
     "metadata": {},
     "output_type": "execute_result"
    }
   ],
   "source": [
    "nn2 = model.fit(x2, utils.to_categorical(train.iloc[:,1], 6),\n",
    "                    batch_size=30,\n",
    "                    epochs=20,\n",
    "                    verbose=1,\n",
    "                    validation_split=0.1)\n",
    "score = model.evaluate(x2,utils.to_categorical(train.iloc[:,1], 6),\n",
    "                       batch_size=30, verbose=1)\n",
    "score[1]"
   ]
  },
  {
   "cell_type": "code",
   "execution_count": 99,
   "metadata": {},
   "outputs": [],
   "source": [
    "test=pd.read_csv('dataset/test2.tsv', sep='\\t',header=None)"
   ]
  },
  {
   "cell_type": "code",
   "execution_count": 100,
   "metadata": {},
   "outputs": [
    {
     "data": {
      "text/html": [
       "<div>\n",
       "<style scoped>\n",
       "    .dataframe tbody tr th:only-of-type {\n",
       "        vertical-align: middle;\n",
       "    }\n",
       "\n",
       "    .dataframe tbody tr th {\n",
       "        vertical-align: top;\n",
       "    }\n",
       "\n",
       "    .dataframe thead th {\n",
       "        text-align: right;\n",
       "    }\n",
       "</style>\n",
       "<table border=\"1\" class=\"dataframe\">\n",
       "  <thead>\n",
       "    <tr style=\"text-align: right;\">\n",
       "      <th></th>\n",
       "      <th>0</th>\n",
       "      <th>1</th>\n",
       "      <th>2</th>\n",
       "      <th>3</th>\n",
       "      <th>4</th>\n",
       "      <th>5</th>\n",
       "      <th>6</th>\n",
       "      <th>7</th>\n",
       "      <th>8</th>\n",
       "      <th>9</th>\n",
       "      <th>10</th>\n",
       "      <th>11</th>\n",
       "      <th>12</th>\n",
       "      <th>13</th>\n",
       "      <th>14</th>\n",
       "      <th>15</th>\n",
       "    </tr>\n",
       "  </thead>\n",
       "  <tbody>\n",
       "    <tr>\n",
       "      <th>0</th>\n",
       "      <td>0</td>\n",
       "      <td>11972.json</td>\n",
       "      <td>true</td>\n",
       "      <td>Building a wall on the U.S.-Mexico border will...</td>\n",
       "      <td>immigration</td>\n",
       "      <td>rick-perry</td>\n",
       "      <td>Governor</td>\n",
       "      <td>Texas</td>\n",
       "      <td>republican</td>\n",
       "      <td>30</td>\n",
       "      <td>30</td>\n",
       "      <td>42</td>\n",
       "      <td>23</td>\n",
       "      <td>18</td>\n",
       "      <td>Radio interview</td>\n",
       "      <td>Meantime, engineering experts agree the wall w...</td>\n",
       "    </tr>\n",
       "    <tr>\n",
       "      <th>1</th>\n",
       "      <td>1</td>\n",
       "      <td>11685.json</td>\n",
       "      <td>false</td>\n",
       "      <td>Wisconsin is on pace to double the number of l...</td>\n",
       "      <td>jobs</td>\n",
       "      <td>katrina-shankland</td>\n",
       "      <td>State representative</td>\n",
       "      <td>Wisconsin</td>\n",
       "      <td>democrat</td>\n",
       "      <td>2</td>\n",
       "      <td>1</td>\n",
       "      <td>0</td>\n",
       "      <td>0</td>\n",
       "      <td>0</td>\n",
       "      <td>a news conference</td>\n",
       "      <td>She cited layoff notices received by the state...</td>\n",
       "    </tr>\n",
       "    <tr>\n",
       "      <th>2</th>\n",
       "      <td>2</td>\n",
       "      <td>11096.json</td>\n",
       "      <td>false</td>\n",
       "      <td>Says John McCain has done nothing to help the ...</td>\n",
       "      <td>military,veterans,voting-record</td>\n",
       "      <td>donald-trump</td>\n",
       "      <td>President-Elect</td>\n",
       "      <td>New York</td>\n",
       "      <td>republican</td>\n",
       "      <td>63</td>\n",
       "      <td>114</td>\n",
       "      <td>51</td>\n",
       "      <td>37</td>\n",
       "      <td>61</td>\n",
       "      <td>comments on ABC's This Week.</td>\n",
       "      <td>Trump said that McCain \"has done nothing to he...</td>\n",
       "    </tr>\n",
       "    <tr>\n",
       "      <th>3</th>\n",
       "      <td>3</td>\n",
       "      <td>5209.json</td>\n",
       "      <td>half-true</td>\n",
       "      <td>Suzanne Bonamici supports a plan that will cut...</td>\n",
       "      <td>medicare,message-machine-2012,campaign-adverti...</td>\n",
       "      <td>rob-cornilles</td>\n",
       "      <td>consultant</td>\n",
       "      <td>Oregon</td>\n",
       "      <td>republican</td>\n",
       "      <td>1</td>\n",
       "      <td>1</td>\n",
       "      <td>3</td>\n",
       "      <td>1</td>\n",
       "      <td>1</td>\n",
       "      <td>a radio show</td>\n",
       "      <td>But spending still goes up. In addition, many ...</td>\n",
       "    </tr>\n",
       "    <tr>\n",
       "      <th>4</th>\n",
       "      <td>4</td>\n",
       "      <td>9524.json</td>\n",
       "      <td>pants-fire</td>\n",
       "      <td>When asked by a reporter whether hes at the ce...</td>\n",
       "      <td>campaign-finance,legal-issues,campaign-adverti...</td>\n",
       "      <td>state-democratic-party-wisconsin</td>\n",
       "      <td>NaN</td>\n",
       "      <td>Wisconsin</td>\n",
       "      <td>democrat</td>\n",
       "      <td>5</td>\n",
       "      <td>7</td>\n",
       "      <td>2</td>\n",
       "      <td>2</td>\n",
       "      <td>7</td>\n",
       "      <td>a web video</td>\n",
       "      <td>Our rating A Democratic Party web video making...</td>\n",
       "    </tr>\n",
       "  </tbody>\n",
       "</table>\n",
       "</div>"
      ],
      "text/plain": [
       "   0           1           2   \\\n",
       "0   0  11972.json        true   \n",
       "1   1  11685.json       false   \n",
       "2   2  11096.json       false   \n",
       "3   3   5209.json   half-true   \n",
       "4   4   9524.json  pants-fire   \n",
       "\n",
       "                                                  3   \\\n",
       "0  Building a wall on the U.S.-Mexico border will...   \n",
       "1  Wisconsin is on pace to double the number of l...   \n",
       "2  Says John McCain has done nothing to help the ...   \n",
       "3  Suzanne Bonamici supports a plan that will cut...   \n",
       "4  When asked by a reporter whether hes at the ce...   \n",
       "\n",
       "                                                  4   \\\n",
       "0                                        immigration   \n",
       "1                                               jobs   \n",
       "2                    military,veterans,voting-record   \n",
       "3  medicare,message-machine-2012,campaign-adverti...   \n",
       "4  campaign-finance,legal-issues,campaign-adverti...   \n",
       "\n",
       "                                 5                     6          7   \\\n",
       "0                        rick-perry              Governor      Texas   \n",
       "1                 katrina-shankland  State representative  Wisconsin   \n",
       "2                      donald-trump       President-Elect   New York   \n",
       "3                     rob-cornilles            consultant     Oregon   \n",
       "4  state-democratic-party-wisconsin                   NaN  Wisconsin   \n",
       "\n",
       "           8   9    10  11  12  13                            14  \\\n",
       "0  republican  30   30  42  23  18               Radio interview   \n",
       "1    democrat   2    1   0   0   0             a news conference   \n",
       "2  republican  63  114  51  37  61  comments on ABC's This Week.   \n",
       "3  republican   1    1   3   1   1                  a radio show   \n",
       "4    democrat   5    7   2   2   7                   a web video   \n",
       "\n",
       "                                                  15  \n",
       "0  Meantime, engineering experts agree the wall w...  \n",
       "1  She cited layoff notices received by the state...  \n",
       "2  Trump said that McCain \"has done nothing to he...  \n",
       "3  But spending still goes up. In addition, many ...  \n",
       "4  Our rating A Democratic Party web video making...  "
      ]
     },
     "execution_count": 100,
     "metadata": {},
     "output_type": "execute_result"
    }
   ],
   "source": [
    "test.head()"
   ]
  },
  {
   "cell_type": "code",
   "execution_count": 101,
   "metadata": {},
   "outputs": [],
   "source": [
    "testdata=[]\n",
    "for i in range(len(test)):\n",
    "    data=test.iloc[:,3][i]+\" \"+str(test.iloc[:,4][i])+\" \"+str(test.iloc[:,5][i])+\" \"+str(test.iloc[:,6][i])+\" \"+str(test.iloc[:,14][i])\n",
    "    label=test.iloc[:,2][i]\n",
    "    testdata.append([data,label])"
   ]
  },
  {
   "cell_type": "code",
   "execution_count": 102,
   "metadata": {},
   "outputs": [],
   "source": [
    "test=pd.DataFrame(testdata)\n",
    "for i in range(len(test)):\n",
    "    test.iloc[:,1][i]=labdict[test.iloc[:,1][i]]\n",
    "test=test.replace('\\d+', 'NUM', regex=True)"
   ]
  },
  {
   "cell_type": "code",
   "execution_count": 103,
   "metadata": {},
   "outputs": [],
   "source": [
    "xt=cv.transform(test.iloc[:,0])\n",
    "xt2=cv2.transform(test.iloc[:,0])"
   ]
  },
  {
   "cell_type": "code",
   "execution_count": 104,
   "metadata": {},
   "outputs": [
    {
     "data": {
      "text/plain": [
       "(0.26677190213101815, 0.27150749802683505)"
      ]
     },
     "execution_count": 104,
     "metadata": {},
     "output_type": "execute_result"
    }
   ],
   "source": [
    "clf1.score(xt,list(test.iloc[:,1])) , clf2.score(xt2,list(test.iloc[:,1]))"
   ]
  },
  {
   "cell_type": "code",
   "execution_count": 105,
   "metadata": {},
   "outputs": [
    {
     "data": {
      "text/plain": [
       "(0.23520126282557222, 0.2801894238358327)"
      ]
     },
     "execution_count": 105,
     "metadata": {},
     "output_type": "execute_result"
    }
   ],
   "source": [
    "clf3.score(xt,list(test.iloc[:,1])) , clf4.score(xt2,list(test.iloc[:,1]))"
   ]
  },
  {
   "cell_type": "code",
   "execution_count": 106,
   "metadata": {},
   "outputs": [
    {
     "data": {
      "text/plain": [
       "(0.24230465666929754, 0.2786108918705604)"
      ]
     },
     "execution_count": 106,
     "metadata": {},
     "output_type": "execute_result"
    }
   ],
   "source": [
    "cl1.score(xt,list(test.iloc[:,1])) , cl2.score(xt2,list(test.iloc[:,1]))"
   ]
  },
  {
   "cell_type": "code",
   "execution_count": 109,
   "metadata": {},
   "outputs": [
    {
     "name": "stdout",
     "output_type": "stream",
     "text": [
      "1267/1267 [==============================] - 1s 408us/step\n"
     ]
    },
    {
     "data": {
      "text/plain": [
       "0.24704025979811692"
      ]
     },
     "execution_count": 109,
     "metadata": {},
     "output_type": "execute_result"
    }
   ],
   "source": [
    "score = model.evaluate(xt,utils.to_categorical(test.iloc[:,1], 6),\n",
    "                       batch_size=30, verbose=1)\n",
    "score[1]"
   ]
  },
  {
   "cell_type": "code",
   "execution_count": 61,
   "metadata": {},
   "outputs": [
    {
     "name": "stdout",
     "output_type": "stream",
     "text": [
      "Test score 0.2801894238358327\n"
     ]
    },
    {
     "data": {
      "text/plain": [
       "{'cvec__ngram_range': (1, 3), 'nb__C': 0.1}"
      ]
     },
     "execution_count": 61,
     "metadata": {},
     "output_type": "execute_result"
    }
   ],
   "source": [
    "pipe = Pipeline([('cvec', TfidfVectorizer(max_features=10000)),    \n",
    "                 ('nb', LinearSVC())])\n",
    "\n",
    "pipe_params = {'cvec__ngram_range': [(1,1),(1,3)],\n",
    "               'nb__C': [0.1,0.2,0.3,0.4,0.5,0.6,0.7]}\n",
    "\n",
    "gs = GridSearchCV(pipe, param_grid=pipe_params, cv=3)\n",
    "\n",
    "gs.fit(train.iloc[:,0], list(train.iloc[:,1]));\n",
    "print(\"Test score\", gs.score(test.iloc[:,0], list(test.iloc[:,1])))\n",
    "gs.best_params_"
   ]
  }
 ],
 "metadata": {
  "kernelspec": {
   "display_name": "Python 3",
   "language": "python",
   "name": "python3"
  },
  "language_info": {
   "codemirror_mode": {
    "name": "ipython",
    "version": 3
   },
   "file_extension": ".py",
   "mimetype": "text/x-python",
   "name": "python",
   "nbconvert_exporter": "python",
   "pygments_lexer": "ipython3",
   "version": "3.6.5"
  }
 },
 "nbformat": 4,
 "nbformat_minor": 2
}
